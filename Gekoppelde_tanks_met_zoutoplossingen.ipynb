{
 "cells": [
  {
   "cell_type": "code",
   "execution_count": 7,
   "metadata": {},
   "outputs": [],
   "source": [
    "import numpy as np\n",
    "import matplotlib.pyplot as plt"
   ]
  },
  {
   "cell_type": "code",
   "execution_count": 8,
   "metadata": {},
   "outputs": [],
   "source": [
    "def tank_concentrations(steps=200):\n",
    "    vol_x = 100 # Initial tank volume for tank x in L\n",
    "    vol_y = 100 # Initial tank volume for tank y in L\n",
    "    con_x, con_y = 0, 0.2 # Initial salt concentrations in KG/L\n",
    "    con_inflow_x = 0.2 # Inflow salt concentration for tank x in KG/L\n",
    "    inflow_x = 6 # Inflow for tank x in L/MIN\n",
    "    outflow_x = 4 # Outflow for tank x in L/MIN\n",
    "    inflow_y = 3 # Inflow for tank y in L/MIN\n",
    "    outflow_y = 2 # Outflow for tank y in L/MIN\n",
    "    backflow_y = 1 # Backflow for tank y to tank y in L/MIN\n",
    "\n",
    "    cons_x, cons_y = [], [] # For storing concentrations over time\n",
    "    cons_x.append(con_x) # Add initial concentration for tank x\n",
    "    cons_y.append(con_y) # Add initial concentration for tank y\n",
    "\n",
    "    for _ in range(steps):\n",
    "\n",
    "        # Current salt concentrations in tank x and y\n",
    "        tankcon_x = con_x * vol_x\n",
    "        tankcon_y = con_y * vol_y\n",
    "\n",
    "        # Change tank volumes according to in-, out- and backflow\n",
    "        vol_x += inflow_x + backflow_y - outflow_x - inflow_y\n",
    "        vol_y += inflow_y - outflow_y - backflow_y\n",
    "\n",
    "        # Salt concentration going into tank x and y\n",
    "        con_x_in = con_inflow_x * inflow_x + con_y * backflow_y\n",
    "        con_y_in = con_x * inflow_y\n",
    "\n",
    "        # Salt concentration going out of tank x and y\n",
    "        con_x_out = con_x * outflow_x + con_x * inflow_y\n",
    "        con_y_out = con_y * backflow_y + con_y * outflow_y\n",
    "\n",
    "        # New salt concentrations in tank x and y\n",
    "        con_x = (tankcon_x + con_x_in - con_x_out) / vol_x\n",
    "        con_y = (tankcon_y + con_y_in - con_y_out) / vol_y\n",
    "        \n",
    "        # Add new tank concentration for tank x and y\n",
    "        cons_x.append(con_x)\n",
    "        cons_y.append(con_y)\n",
    "\n",
    "    return cons_x, cons_y"
   ]
  },
  {
   "cell_type": "code",
   "execution_count": 9,
   "metadata": {},
   "outputs": [
    {
     "data": {
      "image/png": "[encoded data removed]",
      "text/plain": [
       "<Figure size 432x288 with 1 Axes>"
      ]
     },
     "metadata": {
      "needs_background": "light"
     },
     "output_type": "display_data"
    }
   ],
   "source": [
    "x, y = tank_concentrations()\n",
    "\n",
    "plt.title(\"Salt concentration over time\")\n",
    "plt.plot(range(len(x)), x, label=\"Tank x\")\n",
    "plt.plot(range(len(y)), y, label=\"Tank y\")\n",
    "plt.xticks(np.arange(0, 200, step=20))\n",
    "plt.yticks(np.arange(0, 0.21, step=.05))\n",
    "plt.xlabel(\"Steps\")\n",
    "plt.ylabel(\"Salt concentration\")\n",
    "plt.legend()\n",
    "plt.show()"
   ]
  }
 ],
 "metadata": {
  "interpreter": {
   "hash": "41e41e5819fe8764f9f9fda67deec5dce48ea828895139fac1e414913e1e24d5"
  },
  "kernelspec": {
   "display_name": "Python 3.7.10 ('inno')",
   "language": "python",
   "name": "python3"
  },
  "language_info": {
   "codemirror_mode": {
    "name": "ipython",
    "version": 3
   },
   "file_extension": ".py",
   "mimetype": "text/x-python",
   "name": "python",
   "nbconvert_exporter": "python",
   "pygments_lexer": "ipython3",
   "version": "3.7.10"
  },
  "orig_nbformat": 4
 },
 "nbformat": 4,
 "nbformat_minor": 2
}
