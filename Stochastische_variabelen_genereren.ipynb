{
 "cells": [
  {
   "cell_type": "code",
   "execution_count": 129,
   "metadata": {},
   "outputs": [],
   "source": [
    "import matplotlib.pyplot as plt\n",
    "import numpy as np\n",
    "import seaborn as sns\n",
    "from scipy.stats import kstest, normaltest"
   ]
  },
  {
   "cell_type": "code",
   "execution_count": 130,
   "metadata": {},
   "outputs": [],
   "source": [
    "class lcg():\n",
    "\n",
    "    def __init__(self, seed, multiplier, increment, modulus):\n",
    "        self.seed = seed\n",
    "        self.multiplier = multiplier\n",
    "        self.increment = increment\n",
    "        self.modulus = modulus\n",
    "\n",
    "    def random(self):\n",
    "        self.seed = (self.seed * self.multiplier + self.increment) % self.modulus\n",
    "        return self.seed / self.modulus\n",
    "\n",
    "    def n_random(self, n):\n",
    "        return [self.random() for _ in range(n)]"
   ]
  },
  {
   "cell_type": "code",
   "execution_count": 131,
   "metadata": {},
   "outputs": [],
   "source": [
    "# https://en.wikipedia.org/wiki/Box%E2%80%93Muller_transform\n",
    "def box_muller_transform(u1, u2):\n",
    "    r = np.sqrt(-2 * np.log(u1))\n",
    "    theta = 2 * np.pi * u2\n",
    "    z0 = r * np.cos(theta)\n",
    "    z1 = r * np.sin(theta)\n",
    "    return z0, z1"
   ]
  },
  {
   "cell_type": "code",
   "execution_count": 132,
   "metadata": {},
   "outputs": [],
   "source": [
    "prng = lcg(seed=54321, multiplier=48271, increment=0, modulus=2**31 - 1) # C++11's minstd_rand\n",
    "u1 = np.array(prng.n_random(1000000))\n",
    "u2 = np.array(prng.n_random(1000000))\n",
    "z0, z1 = box_muller_transform(u1, u2)"
   ]
  },
  {
   "cell_type": "code",
   "execution_count": 133,
   "metadata": {},
   "outputs": [
    {
     "data": {
      "image/png": "[encoded data removed]",
      "text/plain": [
       "<Figure size 864x432 with 4 Axes>"
      ]
     },
     "metadata": {
      "needs_background": "light"
     },
     "output_type": "display_data"
    }
   ],
   "source": [
    "fig, axes = plt.subplots(nrows=2, ncols=2, figsize=(12,6))\n",
    "\n",
    "axes[0][0].hist(u1, bins=100)\n",
    "axes[0][1].hist(z0, bins=100)\n",
    "\n",
    "axes[1][0].hist(u2, bins=100)\n",
    "axes[1][1].hist(z1, bins=100)\n",
    "\n",
    "plt.show()\n",
    "#sns.distplot(z0)\n",
    "#sns.distplot(z1)"
   ]
  },
  {
   "cell_type": "markdown",
   "metadata": {},
   "source": [
    "### De normaalverdeling testen\n",
    "\n"
   ]
  },
  {
   "cell_type": "code",
   "execution_count": 134,
   "metadata": {},
   "outputs": [
    {
     "name": "stdout",
     "output_type": "stream",
     "text": [
      "The null hypothesis for z0 cannot be rejected\n",
      "The null hypothesis for z1 cannot be rejected\n"
     ]
    }
   ],
   "source": [
    "_, p_value = kstest(z0, 'norm')\n",
    "alpha = 0.1 # 10 %\n",
    "if p_value < alpha:  # null hypothesis: x comes from a normal distribution\n",
    "    print(\"The null hypothesis for z0 can be rejected\")\n",
    "else:\n",
    "    print(\"The null hypothesis for z0 cannot be rejected\")\n",
    "\n",
    "_, p_value = kstest(z0, 'norm')\n",
    "if p_value < alpha:  # null hypothesis: x comes from a normal distribution\n",
    "    print(\"The null hypothesis for z1 can be rejected\")\n",
    "else:\n",
    "    print(\"The null hypothesis for z1 cannot be rejected\")"
   ]
  },
  {
   "cell_type": "code",
   "execution_count": 135,
   "metadata": {},
   "outputs": [
    {
     "name": "stdout",
     "output_type": "stream",
     "text": [
      "The null hypothesis for z0 cannot be rejected\n",
      "The null hypothesis for z1 cannot be rejected\n"
     ]
    }
   ],
   "source": [
    "# https://docs.scipy.org/doc/scipy/reference/generated/scipy.stats.normaltest.html\n",
    "_, p_value = normaltest(z0)\n",
    "alpha = 1e-3\n",
    "if p_value < alpha:  # null hypothesis: x comes from a normal distribution\n",
    "    print(\"The null hypothesis for z0 can be rejected\")\n",
    "else:\n",
    "    print(\"The null hypothesis for z0 cannot be rejected\")\n",
    "\n",
    "_, p_value = normaltest(z1)\n",
    "if p_value < alpha:  # null hypothesis: x comes from a normal distribution\n",
    "    print(\"The null hypothesis for z1 can be rejected\")\n",
    "else:\n",
    "    print(\"The null hypothesis for z1 cannot be rejected\")"
   ]
  }
 ],
 "metadata": {
  "interpreter": {
   "hash": "41e41e5819fe8764f9f9fda67deec5dce48ea828895139fac1e414913e1e24d5"
  },
  "kernelspec": {
   "display_name": "Python 3.7.10 ('inno')",
   "language": "python",
   "name": "python3"
  },
  "language_info": {
   "codemirror_mode": {
    "name": "ipython",
    "version": 3
   },
   "file_extension": ".py",
   "mimetype": "text/x-python",
   "name": "python",
   "nbconvert_exporter": "python",
   "pygments_lexer": "ipython3",
   "version": "3.7.10"
  },
  "orig_nbformat": 4
 },
 "nbformat": 4,
 "nbformat_minor": 2
}
