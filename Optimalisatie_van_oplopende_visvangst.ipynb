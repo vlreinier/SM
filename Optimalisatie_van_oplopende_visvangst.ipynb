{
 "cells": [
  {
   "cell_type": "code",
   "execution_count": 5,
   "metadata": {},
   "outputs": [],
   "source": [
    "import matplotlib.pyplot as plt\n",
    "import numpy as np"
   ]
  },
  {
   "cell_type": "code",
   "execution_count": 6,
   "metadata": {},
   "outputs": [],
   "source": [
    "def harvest():\n",
    "    maximum_growth_rate = 0.5 # 1 / year\n",
    "    carrying_capacity = 2e6 # tons\n",
    "    maximum_harvest_rate = 0.7 * 2.5e5 # tons / year\n",
    "    \n",
    "    end_time = 10. # years\n",
    "    h = 0.1 # years\n",
    "    num_steps = int(end_time / h)\n",
    "    times = h * np.array(range(num_steps + 1))\n",
    "\n",
    "    fish = np.zeros([num_steps + 1]) # tons\n",
    "    fish[0] = 2e5\n",
    "    results = []\n",
    "\n",
    "    for ramp_start in np.arange(2., end_time, 0.5):\n",
    "        for ramp_end in np.arange(ramp_start, end_time, 0.5):\n",
    "            if ramp_end == ramp_start:\n",
    "                continue\n",
    "            is_extinct = False\n",
    "            total_harvest = 0\n",
    "\n",
    "            for step in range(num_steps):\n",
    "                time = h * step # years\n",
    "                harvest_factor = 0.0\n",
    "                if time > ramp_end:\n",
    "                    harvest_factor = 1.0\n",
    "                elif time > ramp_start:\n",
    "                    harvest_factor = (time - ramp_start) / (ramp_end - ramp_start)\n",
    "                harvest_rate = harvest_factor * maximum_harvest_rate\n",
    "                if is_extinct:\n",
    "                    current_harvest = 0.\n",
    "                    fish_next_step = 0.\n",
    "                else:\n",
    "                    current_harvest = h * harvest_rate\n",
    "                    fish_next_step = fish[step] + h * (maximum_growth_rate * (1. - fish[step] / carrying_capacity) * fish[step] - harvest_rate)\n",
    "                    if fish_next_step <= 0.:\n",
    "                        is_extinct = True\n",
    "                        current_harvest = fish[step]\n",
    "                        fish_next_step = 0.\n",
    "\n",
    "                fish[step + 1] = fish_next_step\n",
    "                total_harvest += current_harvest\n",
    "\n",
    "            results.append((ramp_start, ramp_end, total_harvest))\n",
    "\n",
    "    return results"
   ]
  },
  {
   "cell_type": "markdown",
   "metadata": {},
   "source": [
    "#### Optimale start- en eindtijd voor visvangst (vanaf 2 jaar)"
   ]
  },
  {
   "cell_type": "code",
   "execution_count": 7,
   "metadata": {},
   "outputs": [
    {
     "data": {
      "image/png": "[encoded data removed]",
      "text/plain": [
       "<Figure size 432x288 with 1 Axes>"
      ]
     },
     "metadata": {
      "needs_background": "light"
     },
     "output_type": "display_data"
    }
   ],
   "source": [
    "results = harvest()\n",
    "plt.scatter([r[0] for r in results], [r[1] for r in results], [5e-11 * r[2] ** 2. for r in results], edgecolor = 'none')\n",
    "axes = plt.gca()\n",
    "axes.set_xlabel('Ramp start in years')\n",
    "axes.set_ylabel('Ramp end in years')\n",
    "plt.show()"
   ]
  },
  {
   "cell_type": "code",
   "execution_count": 8,
   "metadata": {},
   "outputs": [
    {
     "name": "stdout",
     "output_type": "stream",
     "text": [
      "De optimale start- en eindtijd is (2.0, 2.5)\n"
     ]
    }
   ],
   "source": [
    "def optimal_start_end(results):\n",
    "    highest = 0\n",
    "    optimal_start_end = (0, 0)\n",
    "    for i in results:\n",
    "        if i[2] > highest:\n",
    "            highest = i[2]\n",
    "            optimal_start_end = (i[0], i[1])\n",
    "    return optimal_start_end\n",
    "\n",
    "print(f\"De optimale start- en eindtijd is {optimal_start_end(results)}\")"
   ]
  }
 ],
 "metadata": {
  "interpreter": {
   "hash": "41e41e5819fe8764f9f9fda67deec5dce48ea828895139fac1e414913e1e24d5"
  },
  "kernelspec": {
   "display_name": "Python 3.7.10 ('inno')",
   "language": "python",
   "name": "python3"
  },
  "language_info": {
   "codemirror_mode": {
    "name": "ipython",
    "version": 3
   },
   "file_extension": ".py",
   "mimetype": "text/x-python",
   "name": "python",
   "nbconvert_exporter": "python",
   "pygments_lexer": "ipython3",
   "version": "3.7.10"
  },
  "orig_nbformat": 4
 },
 "nbformat": 4,
 "nbformat_minor": 2
}
