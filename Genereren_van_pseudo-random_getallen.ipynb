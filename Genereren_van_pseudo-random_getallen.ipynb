{
 "cells": [
  {
   "cell_type": "code",
   "execution_count": 273,
   "metadata": {},
   "outputs": [],
   "source": [
    "import matplotlib.pyplot as plt\n",
    "from scipy.stats import chisquare\n",
    "from collections import Counter\n",
    "import math\n",
    "import numpy as np"
   ]
  },
  {
   "cell_type": "markdown",
   "metadata": {},
   "source": [
    "### Linear Congruential Generator\n",
    "\n",
    "De Linear Congruential Generator (LCG) is een van de bekendste Pseudo Random Number Generators en gebruikt een simpele formule om pseudo random getallen te genereren. De kwaliteit van de LCG is heel erg afhankelijk van de setup parameters. Over het algemeen geldt; hoe groter de setup parameters, hoe beter de LCG werkt. Vooral de modulus heeft veel effect op hoe snel het 'random' patroon zich herhaalt. Maar ook op hoe groot de random getallen kunnen worden. Om een getal tussen de 0 en 1 te genereren wordt de seed (het nieuwe random getal) steeds door de modulus gedeeld."
   ]
  },
  {
   "cell_type": "code",
   "execution_count": 274,
   "metadata": {},
   "outputs": [],
   "source": [
    "class lcg():\n",
    "\n",
    "    def __init__(self, seed, multiplier, increment, modulus):\n",
    "        self.seed = seed\n",
    "        self.multiplier = multiplier\n",
    "        self.increment = increment\n",
    "        self.modulus = modulus\n",
    "\n",
    "    def random(self):\n",
    "        self.seed = (self.seed * self.multiplier + self.increment) % self.modulus\n",
    "        return self.seed / self.modulus\n",
    "\n",
    "    def n_random(self, n):\n",
    "        return [self.random() for _ in range(n)]"
   ]
  },
  {
   "cell_type": "code",
   "execution_count": 275,
   "metadata": {},
   "outputs": [],
   "source": [
    "#prng = lcg(seed=54321, multiplier=214013, increment=2531011, modulus=2**32) # Microsoft Visual/Quick C/C++\n",
    "prng = lcg(seed=54321, multiplier=48271, increment=0, modulus=2**31 - 1) # C++11's minstd_rand"
   ]
  },
  {
   "cell_type": "code",
   "execution_count": 276,
   "metadata": {},
   "outputs": [
    {
     "data": {
      "image/png": "[encoded data removed]",
      "text/plain": [
       "<Figure size 1440x288 with 4 Axes>"
      ]
     },
     "metadata": {
      "needs_background": "light"
     },
     "output_type": "display_data"
    }
   ],
   "source": [
    "fig, axes = plt.subplots(nrows=1, ncols=4, figsize=(20,4))\n",
    "for col, n in enumerate([100, 1000, 10000, 100000]):\n",
    "    axes[col].set_title(f\"{n} random samples\")\n",
    "    axes[col].hist(prng.n_random(n), bins=100)\n",
    "plt.tight_layout()\n",
    "plt.show()"
   ]
  },
  {
   "cell_type": "markdown",
   "metadata": {},
   "source": [
    "### Pseudo Random Number Generator testen\n",
    "\n",
    "Ik test de LCG i.c.m. gekozen parameters met behulp van de chisquare methode (https://en.wikipedia.org/wiki/Chi-squared_test). De chisquare test meet of er een significant verschil zit tussen het verwachte voorkomen van getallen en het daadwerkelijke voorkomen van getallen. In het geval van de LCG die is geimplementeerd als een uniforme pseudo RNG, wordt gemeten of er daadwerkelijk een uniforme verdeling/voorkomen van getallen is. Door de frequentie van getallen in een lijst te tellen kan bepaald worden in hoeverre de gewenste verdeling klopt.\n",
    "\n",
    "De chisquare methode zit ingebouwd in de softwarebibliotheek van Scipy stats (https://docs.scipy.org/doc/scipy/reference/generated/scipy.stats.chisquare.html). Zonder op te geven welke voorkomens/frequencies worden verwacht voor een bepaalde category wordt standaard de test voor een uniforme verdeling uitgevoerd.\n",
    "\n",
    "De meetwaarde van de chisquare test is de p-waarde. Hoe lager de p-waarde, hoe groter het significante verschil. Bij een p-waarde van 1 zijn alle categorien gelijk verdeeld. De alpha waarde is waar de p-waarde minimaal aan moet voldoen. Bij een p-waarde van hoger dan alpha kan de hypothese dat de LCG random getallen genereert aangenomen worden.\n",
    "\n",
    "Omdat mijn LCG een float genereert tussen 0 en 1 met veel decimale getallen wordt elk getal afgerond op 1 decimaal zodat de frequenties geteld kunnen worden voor een interval van 0.1."
   ]
  },
  {
   "cell_type": "code",
   "execution_count": 283,
   "metadata": {},
   "outputs": [
    {
     "name": "stdout",
     "output_type": "stream",
     "text": [
      "[100049, 100299, 99568, 99733, 100175, 100501, 99917, 99841, 99994, 99923]\n",
      "Power_divergenceResult(statistic=6.694759999999999, pvalue=0.6688649233180123)\n"
     ]
    }
   ],
   "source": [
    "prng = lcg(seed=54321, multiplier=48271, increment=0, modulus=2**31 - 1) # C++11's minstd_rand\n",
    "randoms = prng.n_random(1000000)\n",
    "buckets = [math.floor(i * 10) / 10 for i in randoms]\n",
    "unique_counts = list(Counter(buckets).values())\n",
    "print(unique_counts)\n",
    "print(chisquare(unique_counts))"
   ]
  },
  {
   "cell_type": "markdown",
   "metadata": {},
   "source": [
    "### PI benaderen"
   ]
  },
  {
   "cell_type": "code",
   "execution_count": 278,
   "metadata": {},
   "outputs": [],
   "source": [
    "def approximate_pi(prng, random_numbers=10000):\n",
    "    count = 0\n",
    "    for _ in range(random_numbers):\n",
    "        x = prng.random()\n",
    "        y = prng.random()\n",
    "        r = (x**2 + y**2) ** 0.5\n",
    "        if r < 1:\n",
    "            count += 1\n",
    "    return 4 * count / random_numbers"
   ]
  },
  {
   "cell_type": "code",
   "execution_count": 279,
   "metadata": {},
   "outputs": [
    {
     "name": "stdout",
     "output_type": "stream",
     "text": [
      "3.1436\n"
     ]
    }
   ],
   "source": [
    "prng = lcg(seed=54321, multiplier=48271, increment=0, modulus=2**31 - 1) # C++11's minstd_rand\n",
    "print(approximate_pi(prng, random_numbers=500000))"
   ]
  }
 ],
 "metadata": {
  "interpreter": {
   "hash": "41e41e5819fe8764f9f9fda67deec5dce48ea828895139fac1e414913e1e24d5"
  },
  "kernelspec": {
   "display_name": "Python 3.7.10 ('inno')",
   "language": "python",
   "name": "python3"
  },
  "language_info": {
   "codemirror_mode": {
    "name": "ipython",
    "version": 3
   },
   "file_extension": ".py",
   "mimetype": "text/x-python",
   "name": "python",
   "nbconvert_exporter": "python",
   "pygments_lexer": "ipython3",
   "version": "3.7.10"
  },
  "orig_nbformat": 4
 },
 "nbformat": 4,
 "nbformat_minor": 2
}
